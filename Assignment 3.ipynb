{
 "cells": [
  {
   "cell_type": "markdown",
   "id": "d37d8e6b",
   "metadata": {},
   "source": [
    "# Question 1"
   ]
  },
  {
   "cell_type": "code",
   "execution_count": 1,
   "id": "3a0cc8c3",
   "metadata": {},
   "outputs": [],
   "source": [
    "import numpy as np\n",
    "import matplotlib.pyplot as plt"
   ]
  },
  {
   "cell_type": "code",
   "execution_count": 2,
   "id": "e5aefce2",
   "metadata": {},
   "outputs": [],
   "source": [
    "from comp_phy import everythin as ev"
   ]
  },
  {
   "cell_type": "code",
   "execution_count": 3,
   "id": "3f60edcd",
   "metadata": {},
   "outputs": [],
   "source": [
    "def integrate(x):\n",
    "    return np.exp(-(x**2))\n",
    "def prob(x):\n",
    "    return np.exp(-x)"
   ]
  },
  {
   "cell_type": "code",
   "execution_count": 8,
   "id": "467999e9",
   "metadata": {},
   "outputs": [
    {
     "name": "stdout",
     "output_type": "stream",
     "text": [
      "Integration value without importance sampling is 0.7471195821695069, and with is 0.7453002514806827\n"
     ]
    }
   ],
   "source": [
    "u_sample = ev.monte_carlo(integrate,a=0,b=1,n=5000,imp=None)\n",
    "imp_sample = ev.monte_carlo(integrate,prob,a=0,b=1,n=5000)\n",
    "\n",
    "print(f\"Integration value without importance sampling is {u_sample}, and with is {imp_sample}\")"
   ]
  },
  {
   "cell_type": "markdown",
   "id": "41ab843a",
   "metadata": {},
   "source": [
    "# Question 2"
   ]
  },
  {
   "cell_type": "code",
   "execution_count": null,
   "id": "235a0fab",
   "metadata": {},
   "outputs": [],
   "source": []
  },
  {
   "cell_type": "markdown",
   "id": "a3dabf3a",
   "metadata": {},
   "source": [
    "# Question 3"
   ]
  },
  {
   "cell_type": "code",
   "execution_count": 10,
   "id": "613b9588",
   "metadata": {},
   "outputs": [],
   "source": [
    "a = 1\n",
    "b = 1\n",
    "\n",
    "# 100 x 100 grid \n",
    "n = 100 \n",
    "m = 100"
   ]
  },
  {
   "cell_type": "code",
   "execution_count": 11,
   "id": "873a6c60",
   "metadata": {},
   "outputs": [],
   "source": [
    "dx = a/n\n",
    "dy = b/m"
   ]
  },
  {
   "cell_type": "code",
   "execution_count": 12,
   "id": "4ff9ac15",
   "metadata": {},
   "outputs": [],
   "source": [
    "den = 1/(2*(dx**2 + dy**2))"
   ]
  },
  {
   "cell_type": "code",
   "execution_count": 13,
   "id": "e0f282a5",
   "metadata": {},
   "outputs": [],
   "source": [
    "x = np.arange(0,a,dx)\n",
    "y = np.arange(0,b,dy)"
   ]
  },
  {
   "cell_type": "code",
   "execution_count": 23,
   "id": "d659670c",
   "metadata": {},
   "outputs": [],
   "source": [
    "phi = np.zeros((n,m))\n",
    "phi[0,:] = 0\n",
    "phi[n-1,:] = 0\n",
    "phi[:,0] = 1\n",
    "phi[:,m-1] = 0"
   ]
  },
  {
   "cell_type": "code",
   "execution_count": 22,
   "id": "6fafc210",
   "metadata": {},
   "outputs": [
    {
     "data": {
      "text/plain": [
       "1.0"
      ]
     },
     "execution_count": 22,
     "metadata": {},
     "output_type": "execute_result"
    }
   ],
   "source": [
    "phi[m-1][1]"
   ]
  },
  {
   "cell_type": "code",
   "execution_count": 31,
   "id": "00a4ad44",
   "metadata": {},
   "outputs": [],
   "source": [
    "def FTD(phi,dx,dy,n,m):\n",
    "    for i in range(1,n-1):\n",
    "        for j in range(1,m-1):\n",
    "            phi[i][j] = den * ((phi[i+1][j] + phi[i-1][j])*dx**2 + (phi[i][j+1] + phi[i][j-1])*dy**2)\n",
    "    phi[0][0] = (phi[1][0] + phi[0][1])/2\n",
    "    phi[0][m-1] = (phi[0][m-2] + phi[1][m-1])/2\n",
    "    phi[n-1][m-1] = (phi[n-2][m-1] + phi[n-1][m-2])/2\n",
    "    phi[n-1][0] = (phi[n-2][0] + phi[n-1][1])/2\n",
    "    \n",
    "    return phi\n"
   ]
  },
  {
   "cell_type": "code",
   "execution_count": 29,
   "id": "65d51b04",
   "metadata": {},
   "outputs": [],
   "source": [
    "iter = 500"
   ]
  },
  {
   "cell_type": "code",
   "execution_count": 33,
   "id": "f1f660c6",
   "metadata": {},
   "outputs": [
    {
     "name": "stdout",
     "output_type": "stream",
     "text": [
      "[[5.00000000e-01 0.00000000e+00 0.00000000e+00 ... 0.00000000e+00\n",
      "  0.00000000e+00 0.00000000e+00]\n",
      " [1.00000000e+00 4.99828098e-01 3.02003682e-01 ... 1.25200244e-04\n",
      "  6.25442891e-05 0.00000000e+00]\n",
      " [1.00000000e+00 6.97308979e-01 4.99312931e-01 ... 2.50350919e-04\n",
      "  1.25063866e-04 0.00000000e+00]\n",
      " ...\n",
      " [1.00000000e+00 6.97314901e-01 4.99324758e-01 ... 2.58113854e-04\n",
      "  1.28944852e-04 0.00000000e+00]\n",
      " [1.00000000e+00 4.99831125e-01 3.02009729e-01 ... 1.29169175e-04\n",
      "  6.45285066e-05 0.00000000e+00]\n",
      " [5.00000000e-01 0.00000000e+00 0.00000000e+00 ... 0.00000000e+00\n",
      "  0.00000000e+00 0.00000000e+00]]\n"
     ]
    }
   ],
   "source": [
    "for i in range(iter):\n",
    "    phi = FTD(phi,dx,dy,n,m)\n",
    "    \n",
    "print(phi)"
   ]
  },
  {
   "cell_type": "code",
   "execution_count": 34,
   "id": "2e42c8ff",
   "metadata": {},
   "outputs": [
    {
     "data": {
      "text/plain": [
       "<matplotlib.contour.QuadContourSet at 0x281a87b0ca0>"
      ]
     },
     "execution_count": 34,
     "metadata": {},
     "output_type": "execute_result"
    },
    {
     "data": {
      "image/png": "[encoded data removed]",
      "text/plain": [
       "<Figure size 432x288 with 1 Axes>"
      ]
     },
     "metadata": {
      "needs_background": "light"
     },
     "output_type": "display_data"
    }
   ],
   "source": [
    "plt.contourf(x,y,phi)"
   ]
  }
 ],
 "metadata": {
  "kernelspec": {
   "display_name": "Python 3 (ipykernel)",
   "language": "python",
   "name": "python3"
  },
  "language_info": {
   "codemirror_mode": {
    "name": "ipython",
    "version": 3
   },
   "file_extension": ".py",
   "mimetype": "text/x-python",
   "name": "python",
   "nbconvert_exporter": "python",
   "pygments_lexer": "ipython3",
   "version": "3.10.4"
  }
 },
 "nbformat": 4,
 "nbformat_minor": 5
}
